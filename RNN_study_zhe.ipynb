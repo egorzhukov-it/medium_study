{
  "nbformat": 4,
  "nbformat_minor": 0,
  "metadata": {
    "colab": {
      "name": "RNN study zhe.ipynb",
      "provenance": [],
      "authorship_tag": "ABX9TyM43cb/wwMZvrq1fOTajgBr",
      "include_colab_link": true
    },
    "kernelspec": {
      "name": "python3",
      "display_name": "Python 3"
    }
  },
  "cells": [
    {
      "cell_type": "markdown",
      "metadata": {
        "id": "view-in-github",
        "colab_type": "text"
      },
      "source": [
        "<a href=\"https://colab.research.google.com/github/egorzhukov-it/medium_study/blob/main/RNN_study_zhe.ipynb\" target=\"_parent\"><img src=\"https://colab.research.google.com/assets/colab-badge.svg\" alt=\"Open In Colab\"/></a>"
      ]
    },
    {
      "cell_type": "markdown",
      "metadata": {
        "id": "jtTYRYxonP4c"
      },
      "source": [
        "Тренировочный блокнот для изучения RNN по статье:\r\n",
        "\r\n",
        "Medium: https://medium.com/@annikabrundyn1/the-beginners-guide-to-recurrent-neural-networks-and-text-generation-44a70c34067f\r\n",
        "\r\n",
        "Github:\r\n",
        "https://github.com/annikabrundyn/rnn_text_generation"
      ]
    },
    {
      "cell_type": "code",
      "metadata": {
        "id": "FzaY05XBnO8B"
      },
      "source": [
        ""
      ],
      "execution_count": null,
      "outputs": []
    }
  ]
}